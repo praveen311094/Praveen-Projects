{
 "cells": [
  {
   "cell_type": "code",
   "execution_count": 3,
   "id": "4b2ec8e4",
   "metadata": {},
   "outputs": [
    {
     "name": "stdout",
     "output_type": "stream",
     "text": [
      "This is my first demo project on Github\n"
     ]
    }
   ],
   "source": [
    "print('This is my first demo project on Github')"
   ]
  },
  {
   "cell_type": "code",
   "execution_count": 4,
   "id": "cf0feab5",
   "metadata": {},
   "outputs": [
    {
     "data": {
      "text/plain": [
       "4"
      ]
     },
     "execution_count": 4,
     "metadata": {},
     "output_type": "execute_result"
    }
   ],
   "source": [
    "2 +2 "
   ]
  },
  {
   "cell_type": "code",
   "execution_count": null,
   "id": "f013508b",
   "metadata": {},
   "outputs": [],
   "source": []
  }
 ],
 "metadata": {
  "kernelspec": {
   "display_name": "Python 3 (ipykernel)",
   "language": "python",
   "name": "python3"
  },
  "language_info": {
   "codemirror_mode": {
    "name": "ipython",
    "version": 3
   },
   "file_extension": ".py",
   "mimetype": "text/x-python",
   "name": "python",
   "nbconvert_exporter": "python",
   "pygments_lexer": "ipython3",
   "version": "3.9.12"
  }
 },
 "nbformat": 4,
 "nbformat_minor": 5
}
