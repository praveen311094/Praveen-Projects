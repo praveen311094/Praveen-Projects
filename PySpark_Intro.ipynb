{
  "nbformat": 4,
  "nbformat_minor": 0,
  "metadata": {
    "colab": {
      "provenance": [],
      "authorship_tag": "ABX9TyO/uxqbUaLDQiGgP3jERuyG",
      "include_colab_link": true
    },
    "kernelspec": {
      "name": "python3",
      "display_name": "Python 3"
    },
    "language_info": {
      "name": "python"
    }
  },
  "cells": [
    {
      "cell_type": "markdown",
      "metadata": {
        "id": "view-in-github",
        "colab_type": "text"
      },
      "source": [
        "<a href=\"https://colab.research.google.com/github/praveen311094/Praveen-Projects/blob/main/PySpark_Intro.ipynb\" target=\"_parent\"><img src=\"https://colab.research.google.com/assets/colab-badge.svg\" alt=\"Open In Colab\"/></a>"
      ]
    },
    {
      "cell_type": "code",
      "execution_count": 1,
      "metadata": {
        "colab": {
          "base_uri": "https://localhost:8080/"
        },
        "id": "cpQ5G6KMqytQ",
        "outputId": "f1af47e8-0f4a-4763-9524-97195d21c950"
      },
      "outputs": [
        {
          "output_type": "stream",
          "name": "stdout",
          "text": [
            "Looking in indexes: https://pypi.org/simple, https://us-python.pkg.dev/colab-wheels/public/simple/\n",
            "Collecting pyspark\n",
            "  Downloading pyspark-3.3.1.tar.gz (281.4 MB)\n",
            "\u001b[2K     \u001b[90m━━━━━━━━━━━━━━━━━━━━━━━━━━━━━━━━━━━━━━━\u001b[0m \u001b[32m281.4/281.4 MB\u001b[0m \u001b[31m4.6 MB/s\u001b[0m eta \u001b[36m0:00:00\u001b[0m\n",
            "\u001b[?25h  Preparing metadata (setup.py) ... \u001b[?25l\u001b[?25hdone\n",
            "Collecting py4j==0.10.9.5\n",
            "  Downloading py4j-0.10.9.5-py2.py3-none-any.whl (199 kB)\n",
            "\u001b[2K     \u001b[90m━━━━━━━━━━━━━━━━━━━━━━━━━━━━━━━━━━━━━━\u001b[0m \u001b[32m199.7/199.7 KB\u001b[0m \u001b[31m18.9 MB/s\u001b[0m eta \u001b[36m0:00:00\u001b[0m\n",
            "\u001b[?25hBuilding wheels for collected packages: pyspark\n",
            "  Building wheel for pyspark (setup.py) ... \u001b[?25l\u001b[?25hdone\n",
            "  Created wheel for pyspark: filename=pyspark-3.3.1-py2.py3-none-any.whl size=281845512 sha256=a042c63893d31ae850d47b790143138889b779f301cd004d44f96aaccc716073\n",
            "  Stored in directory: /root/.cache/pip/wheels/43/dc/11/ec201cd671da62fa9c5cc77078235e40722170ceba231d7598\n",
            "Successfully built pyspark\n",
            "Installing collected packages: py4j, pyspark\n",
            "Successfully installed py4j-0.10.9.5 pyspark-3.3.1\n"
          ]
        }
      ],
      "source": [
        "# pip install pyspark"
      ]
    },
    {
      "cell_type": "code",
      "source": [
        "from pyspark.conf import SparkConf\n",
        "from pyspark.context import SparkContext\n",
        "conf = SparkConf()\n",
        "conf.setMaster(\"local\").setAppName(\"My app\")\n",
        "\n",
        "conf.get(\"spark.master\")\n",
        "\n",
        "conf.get(\"spark.app.name\")\n",
        "\n",
        "sc = SparkContext(conf=conf)\n",
        "sc.master\n",
        "\n",
        "sc.appName\n",
        "\n",
        "sc.sparkHome is None\n",
        "\n",
        "# SparkContext - Represents the connection to a Spark cluster\n",
        "# Sparkconf is the class which gives you the various option to provide configuration parameters."
      ],
      "metadata": {
        "colab": {
          "base_uri": "https://localhost:8080/"
        },
        "id": "kQibqfBgrZfR",
        "outputId": "bf0f3b11-9209-477b-8523-075b7209ab8c"
      },
      "execution_count": 5,
      "outputs": [
        {
          "output_type": "execute_result",
          "data": {
            "text/plain": [
              "True"
            ]
          },
          "metadata": {},
          "execution_count": 5
        }
      ]
    },
    {
      "cell_type": "code",
      "source": [
        "rdd1 = sc.textFile(\"/content/profile.txt\")\n",
        "rdd1.collect()"
      ],
      "metadata": {
        "colab": {
          "base_uri": "https://localhost:8080/"
        },
        "id": "IEhvvvjnsU21",
        "outputId": "78dc54ce-450f-41f6-b372-6ebd746c4047"
      },
      "execution_count": 42,
      "outputs": [
        {
          "output_type": "execute_result",
          "data": {
            "text/plain": [
              "['praveen,2', 'praveen,3']"
            ]
          },
          "metadata": {},
          "execution_count": 42
        }
      ]
    },
    {
      "cell_type": "code",
      "source": [
        "rdd2 = rdd1.map(lambda x: (x,len(x)))\n",
        "rdd2.collect()"
      ],
      "metadata": {
        "colab": {
          "base_uri": "https://localhost:8080/"
        },
        "id": "qUw4SI59sVAj",
        "outputId": "46ec6204-e464-4a49-9c0d-cdfbe317183a"
      },
      "execution_count": 11,
      "outputs": [
        {
          "output_type": "execute_result",
          "data": {
            "text/plain": [
              "[('1-Name- Peddabudi Praveen Kumar', 31),\n",
              " ('2-Contact- 9502373797', 21),\n",
              " ('3-Email id- praveenpeddabudi@gmail.com', 38),\n",
              " ('4-Pan card No- DFUPP7592N', 25),\n",
              " ('5-TOTAL experience- 3 Years 10 Months ', 38),\n",
              " ('6-Relevant Experience- 15 Months', 32),\n",
              " ('7-Highest Qualification- B.Tech', 31),\n",
              " ('8-Graduation University- JNTUH', 30),\n",
              " ('9-Post Graduation University- NA', 32),\n",
              " ('10-Current Organization- NA', 27),\n",
              " ('11-Previous Company- ONPASSIVE Technologies Private Limited', 59),\n",
              " ('12-Preferred Location- Hyderabad', 32),\n",
              " ('13-Current CTC- 2.5 LPA', 23),\n",
              " ('14-Expected CTC- Around 3.5-4 LPA', 33),\n",
              " ('15-Notice Period- Immediate Joiner', 34),\n",
              " ('16-Date Of Birth - October 31,1994', 34),\n",
              " ('17. Current Designation: Technical Support Engineer L1', 54),\n",
              " ('18. Current department : IT Services', 36),\n",
              " ('19. Hometown: Hyderabad', 23)]"
            ]
          },
          "metadata": {},
          "execution_count": 11
        }
      ]
    },
    {
      "cell_type": "code",
      "source": [
        "rdd2 = rdd1.map(lambda x:x.split(\" \"))\n",
        "rdd2.collect()"
      ],
      "metadata": {
        "colab": {
          "base_uri": "https://localhost:8080/"
        },
        "id": "1fgMRDSU1eKY",
        "outputId": "edaa301b-6e61-4b7c-99a1-658ce7e7d194"
      },
      "execution_count": 12,
      "outputs": [
        {
          "output_type": "execute_result",
          "data": {
            "text/plain": [
              "[['1-Name-', 'Peddabudi', 'Praveen', 'Kumar'],\n",
              " ['2-Contact-', '9502373797'],\n",
              " ['3-Email', 'id-', 'praveenpeddabudi@gmail.com'],\n",
              " ['4-Pan', 'card', 'No-', 'DFUPP7592N'],\n",
              " ['5-TOTAL', 'experience-', '3', 'Years', '10', 'Months', ''],\n",
              " ['6-Relevant', 'Experience-', '15', 'Months'],\n",
              " ['7-Highest', 'Qualification-', 'B.Tech'],\n",
              " ['8-Graduation', 'University-', 'JNTUH'],\n",
              " ['9-Post', 'Graduation', 'University-', 'NA'],\n",
              " ['10-Current', 'Organization-', 'NA'],\n",
              " ['11-Previous',\n",
              "  'Company-',\n",
              "  'ONPASSIVE',\n",
              "  'Technologies',\n",
              "  'Private',\n",
              "  'Limited'],\n",
              " ['12-Preferred', 'Location-', 'Hyderabad'],\n",
              " ['13-Current', 'CTC-', '2.5', 'LPA'],\n",
              " ['14-Expected', 'CTC-', 'Around', '3.5-4', 'LPA'],\n",
              " ['15-Notice', 'Period-', 'Immediate', 'Joiner'],\n",
              " ['16-Date', 'Of', 'Birth', '-', 'October', '31,1994'],\n",
              " ['17.', 'Current', 'Designation:', 'Technical', 'Support', 'Engineer', 'L1'],\n",
              " ['18.', 'Current', 'department', ':', 'IT', 'Services'],\n",
              " ['19.', 'Hometown:', 'Hyderabad']]"
            ]
          },
          "metadata": {},
          "execution_count": 12
        }
      ]
    },
    {
      "cell_type": "code",
      "source": [
        "rdd2 = rdd1.map(lambda x:x.split(\",\"))\n",
        "rdd2.collect()"
      ],
      "metadata": {
        "colab": {
          "base_uri": "https://localhost:8080/"
        },
        "id": "y2ZkVsx34W1J",
        "outputId": "5739be83-dd36-42c8-c571-5f702c13d7db"
      },
      "execution_count": 48,
      "outputs": [
        {
          "output_type": "execute_result",
          "data": {
            "text/plain": [
              "[['praveen', '2'], ['praveen', '3']]"
            ]
          },
          "metadata": {},
          "execution_count": 48
        }
      ]
    },
    {
      "cell_type": "code",
      "source": [
        "rdd2 = rdd1.flatMap(lambda x:x.split(\" \"))\n",
        "rdd2.collect()"
      ],
      "metadata": {
        "colab": {
          "base_uri": "https://localhost:8080/"
        },
        "id": "zgEaSG204gVp",
        "outputId": "07a7fd80-2a59-491a-a955-f798a45747bc"
      },
      "execution_count": 16,
      "outputs": [
        {
          "output_type": "execute_result",
          "data": {
            "text/plain": [
              "['1,',\n",
              " 'Arun,',\n",
              " '11',\n",
              " '2,',\n",
              " 'Bisu,',\n",
              " '12',\n",
              " '3,',\n",
              " 'chic,',\n",
              " '31',\n",
              " '4,',\n",
              " 'delo,',\n",
              " '23']"
            ]
          },
          "metadata": {},
          "execution_count": 16
        }
      ]
    },
    {
      "cell_type": "code",
      "source": [
        "rdd4 = rdd1.map(lambda x:x.split(\" \"))\n",
        "rdd4.collect()"
      ],
      "metadata": {
        "colab": {
          "base_uri": "https://localhost:8080/"
        },
        "id": "50MyZfJy5742",
        "outputId": "6f0ce1b0-b80c-4ed4-fd47-ff23a9cf50dd"
      },
      "execution_count": 23,
      "outputs": [
        {
          "output_type": "execute_result",
          "data": {
            "text/plain": [
              "[['1,', 'Arun,', '11'],\n",
              " ['2,', 'Bisu,', '12'],\n",
              " ['3,', 'chic,', '31'],\n",
              " ['4,', 'delo,', '23']]"
            ]
          },
          "metadata": {},
          "execution_count": 23
        }
      ]
    },
    {
      "cell_type": "code",
      "source": [
        "rdd3 = rdd1.map(lambda x:x.split(\",\")[2])\n",
        "rdd3.collect()"
      ],
      "metadata": {
        "colab": {
          "base_uri": "https://localhost:8080/"
        },
        "id": "lRRSGUjZ4311",
        "outputId": "70267bf0-b6a5-47a4-f7b9-8372dfd171c4"
      },
      "execution_count": 17,
      "outputs": [
        {
          "output_type": "execute_result",
          "data": {
            "text/plain": [
              "[['1', ' Arun', ' 11'],\n",
              " ['2', ' Bisu', ' 12'],\n",
              " ['3', ' chic', ' 31'],\n",
              " ['4', ' delo', ' 23']]"
            ]
          },
          "metadata": {},
          "execution_count": 17
        }
      ]
    },
    {
      "cell_type": "code",
      "source": [
        "rdd3 = rdd1.map(lambda x:int(x.split(\",\")[2]))  # to know max no\n",
        "rdd3.max()"
      ],
      "metadata": {
        "colab": {
          "base_uri": "https://localhost:8080/"
        },
        "id": "5pfBpxXN43xp",
        "outputId": "0add8e00-1c22-475d-ee79-7051a1c34aa6"
      },
      "execution_count": 18,
      "outputs": [
        {
          "output_type": "execute_result",
          "data": {
            "text/plain": [
              "31"
            ]
          },
          "metadata": {},
          "execution_count": 18
        }
      ]
    },
    {
      "cell_type": "code",
      "source": [
        "rdd5 = rdd1.flatMap(lambda y:y.split(\" \"))\n",
        "rdd5.collect()"
      ],
      "metadata": {
        "colab": {
          "base_uri": "https://localhost:8080/"
        },
        "id": "AIBu6T0H6jgK",
        "outputId": "26271067-25da-4f50-912d-a3e003d53c46"
      },
      "execution_count": 24,
      "outputs": [
        {
          "output_type": "execute_result",
          "data": {
            "text/plain": [
              "['1-Name-',\n",
              " 'Peddabudi',\n",
              " 'Praveen',\n",
              " 'Kumar',\n",
              " '2-Contact-',\n",
              " '9502373797',\n",
              " '3-Email',\n",
              " 'id-',\n",
              " 'praveenpeddabudi@gmail.com',\n",
              " '4-Pan',\n",
              " 'card',\n",
              " 'No-',\n",
              " 'DFUPP7592N',\n",
              " '5-TOTAL',\n",
              " 'experience-',\n",
              " '3',\n",
              " 'Years',\n",
              " '10',\n",
              " 'Months',\n",
              " '',\n",
              " '6-Relevant',\n",
              " 'Experience-',\n",
              " '15',\n",
              " 'Months',\n",
              " '7-Highest',\n",
              " 'Qualification-',\n",
              " 'B.Tech',\n",
              " '8-Graduation',\n",
              " 'University-',\n",
              " 'JNTUH',\n",
              " '9-Post',\n",
              " 'Graduation',\n",
              " 'University-',\n",
              " 'NA',\n",
              " '10-Current',\n",
              " 'Organization-',\n",
              " 'NA',\n",
              " '11-Previous',\n",
              " 'Company-',\n",
              " 'ONPASSIVE',\n",
              " 'Technologies',\n",
              " 'Private',\n",
              " 'Limited',\n",
              " '12-Preferred',\n",
              " 'Location-',\n",
              " 'Hyderabad',\n",
              " '13-Current',\n",
              " 'CTC-',\n",
              " '2.5',\n",
              " 'LPA',\n",
              " '14-Expected',\n",
              " 'CTC-',\n",
              " 'Around',\n",
              " '3.5-4',\n",
              " 'LPA',\n",
              " '15-Notice',\n",
              " 'Period-',\n",
              " 'Immediate',\n",
              " 'Joiner',\n",
              " '16-Date',\n",
              " 'Of',\n",
              " 'Birth',\n",
              " '-',\n",
              " 'October',\n",
              " '31,1994',\n",
              " '17.',\n",
              " 'Current',\n",
              " 'Designation:',\n",
              " 'Technical',\n",
              " 'Support',\n",
              " 'Engineer',\n",
              " 'L1',\n",
              " '18.',\n",
              " 'Current',\n",
              " 'department',\n",
              " ':',\n",
              " 'IT',\n",
              " 'Services',\n",
              " '19.',\n",
              " 'Hometown:',\n",
              " 'Hyderabad']"
            ]
          },
          "metadata": {},
          "execution_count": 24
        }
      ]
    },
    {
      "cell_type": "code",
      "source": [
        "rdd5 = rdd1.flatMap(lambda y:y.split(\",\"))  # To Find desired output in file\n",
        "rdd6 = rdd5.filter(lambda x: x == \"praveen\")\n",
        "rdd6.collect()\n",
        "#Resilient Distributed dataset-Contains transformations"
      ],
      "metadata": {
        "colab": {
          "base_uri": "https://localhost:8080/"
        },
        "id": "8MFz8rJc6jYx",
        "outputId": "6e9f20aa-bfc8-4a12-82ac-eda0d473d6b8"
      },
      "execution_count": 45,
      "outputs": [
        {
          "output_type": "execute_result",
          "data": {
            "text/plain": [
              "['praveen', 'praveen']"
            ]
          },
          "metadata": {},
          "execution_count": 45
        }
      ]
    },
    {
      "cell_type": "code",
      "source": [
        "# how to create RDD using list or tuple\n",
        "rdd1 = sc.parallelize(((1,\"jan\", 2023),(2, \"feb\",2023),(18,\"mar\",2023)))\n",
        "rdd2 = sc.parallelize(((3,\"jan\", 2023),(21, \"feb\",2023)))\n",
        "rdd3 = sc.parallelize(((4,\"apr\", 2023),(18, \"mar\",2023),(18,\"dec\",2023)))\n",
        "# rdd1.collect()\n",
        "res_rdd = rdd1.union(rdd2)\n",
        "res_rdd.collect() "
      ],
      "metadata": {
        "colab": {
          "base_uri": "https://localhost:8080/"
        },
        "id": "Y4gcUNBd7ski",
        "outputId": "77c9aa01-65c1-40fe-faf4-0bb761749abd"
      },
      "execution_count": 52,
      "outputs": [
        {
          "output_type": "execute_result",
          "data": {
            "text/plain": [
              "[(1, 'jan', 2023),\n",
              " (2, 'feb', 2023),\n",
              " (18, 'mar', 2023),\n",
              " (3, 'jan', 2023),\n",
              " (21, 'feb', 2023)]"
            ]
          },
          "metadata": {},
          "execution_count": 52
        }
      ]
    },
    {
      "cell_type": "code",
      "source": [
        "res_rdd.saveAsTextFile(\"Outputdata\")"
      ],
      "metadata": {
        "id": "UbFyAaMhE0Zu"
      },
      "execution_count": 56,
      "outputs": []
    },
    {
      "cell_type": "code",
      "source": [
        "res22 = rdd1.intersection(rdd3)\n",
        "res22.collect()"
      ],
      "metadata": {
        "colab": {
          "base_uri": "https://localhost:8080/"
        },
        "id": "SX6Yi5BCCHZi",
        "outputId": "e762e29a-cb1d-40b8-db45-a5e902d0e44d"
      },
      "execution_count": 55,
      "outputs": [
        {
          "output_type": "execute_result",
          "data": {
            "text/plain": [
              "[(18, 'mar', 2023)]"
            ]
          },
          "metadata": {},
          "execution_count": 55
        }
      ]
    },
    {
      "cell_type": "code",
      "source": [
        "res_rdd = rdd1.union(rdd2).union(rdd3)\n",
        "res_rdd.collect()"
      ],
      "metadata": {
        "colab": {
          "base_uri": "https://localhost:8080/"
        },
        "id": "BcYIB_a4_auA",
        "outputId": "f17479f3-c385-4c2c-841d-b80b46e28d9d"
      },
      "execution_count": 53,
      "outputs": [
        {
          "output_type": "execute_result",
          "data": {
            "text/plain": [
              "[(1, 'jan', 2023),\n",
              " (2, 'feb', 2023),\n",
              " (18, 'mar', 2023),\n",
              " (3, 'jan', 2023),\n",
              " (21, 'feb', 2023),\n",
              " (4, 'apr', 2023),\n",
              " (18, 'mar', 2023),\n",
              " (18, 'dec', 2023)]"
            ]
          },
          "metadata": {},
          "execution_count": 53
        }
      ]
    },
    {
      "cell_type": "code",
      "source": [
        "res4 = res_rdd.distinct()\n",
        "res4.collect()"
      ],
      "metadata": {
        "colab": {
          "base_uri": "https://localhost:8080/"
        },
        "id": "E199Tb7VCfXd",
        "outputId": "7db65a91-c1ad-4ac7-d1c3-cf972fdfd363"
      },
      "execution_count": 57,
      "outputs": [
        {
          "output_type": "execute_result",
          "data": {
            "text/plain": [
              "[(2, 'feb', 2023),\n",
              " (21, 'feb', 2023),\n",
              " (4, 'apr', 2023),\n",
              " (18, 'dec', 2023),\n",
              " (1, 'jan', 2023),\n",
              " (18, 'mar', 2023),\n",
              " (3, 'jan', 2023)]"
            ]
          },
          "metadata": {},
          "execution_count": 57
        }
      ]
    },
    {
      "cell_type": "code",
      "source": [
        "mylist = [(1,2,31),(1,22,11),(1,22,2),(1,22,54)]\n",
        "rdd1 = sc.parallelize(mylist)\n",
        "rdd1.collect()"
      ],
      "metadata": {
        "colab": {
          "base_uri": "https://localhost:8080/"
        },
        "id": "KahIsnpFJtme",
        "outputId": "4dc6e76c-69e3-47ec-bc32-811fb329b8b2"
      },
      "execution_count": 61,
      "outputs": [
        {
          "output_type": "execute_result",
          "data": {
            "text/plain": [
              "[(1, 2, 31), (1, 22, 11), (1, 22, 2), (1, 22, 54)]"
            ]
          },
          "metadata": {},
          "execution_count": 61
        }
      ]
    },
    {
      "cell_type": "code",
      "source": [
        "rdd1.sortBy(lambda x:x[2]).collect()"
      ],
      "metadata": {
        "colab": {
          "base_uri": "https://localhost:8080/"
        },
        "id": "8DXjgUcCLtXN",
        "outputId": "9b027c9b-dd2c-4567-be8f-54c9ab115662"
      },
      "execution_count": 62,
      "outputs": [
        {
          "output_type": "execute_result",
          "data": {
            "text/plain": [
              "[(1, 22, 2), (1, 22, 11), (1, 2, 31), (1, 22, 54)]"
            ]
          },
          "metadata": {},
          "execution_count": 62
        }
      ]
    },
    {
      "cell_type": "code",
      "source": [
        "rdd1.sortBy(lambda x:x[2], False).collect() # Descending"
      ],
      "metadata": {
        "colab": {
          "base_uri": "https://localhost:8080/"
        },
        "id": "tkFWmlbML2L-",
        "outputId": "dd8da7d2-b791-4251-9b7f-8546d3543dc6"
      },
      "execution_count": 63,
      "outputs": [
        {
          "output_type": "execute_result",
          "data": {
            "text/plain": [
              "[(1, 22, 54), (1, 2, 31), (1, 22, 11), (1, 22, 2)]"
            ]
          },
          "metadata": {},
          "execution_count": 63
        }
      ]
    },
    {
      "cell_type": "code",
      "source": [
        "mylist = [(10,2),(1,22),(7,22),(11,22)]\n",
        "rdd2 = sc.parallelize(mylist)\n",
        "rdd2.sortByKey().collect()"
      ],
      "metadata": {
        "colab": {
          "base_uri": "https://localhost:8080/"
        },
        "id": "ll74VuBcMMEp",
        "outputId": "7a12b5f8-b9c9-409a-c4a4-acfb0262b87d"
      },
      "execution_count": 64,
      "outputs": [
        {
          "output_type": "execute_result",
          "data": {
            "text/plain": [
              "[(1, 22), (7, 22), (10, 2), (11, 22)]"
            ]
          },
          "metadata": {},
          "execution_count": 64
        }
      ]
    },
    {
      "cell_type": "code",
      "source": [
        "res3 = sc.textFile(\"/content/profile.txt\")\n",
        "res3.collect()"
      ],
      "metadata": {
        "colab": {
          "base_uri": "https://localhost:8080/"
        },
        "id": "CfT360IsML_o",
        "outputId": "9000ddb6-4507-4a3d-b100-874be5135595"
      },
      "execution_count": 65,
      "outputs": [
        {
          "output_type": "execute_result",
          "data": {
            "text/plain": [
              "['1,23,4500', '2,21,1000', '3,24,600', '4,23,4000', '5,21,2000']"
            ]
          },
          "metadata": {},
          "execution_count": 65
        }
      ]
    },
    {
      "cell_type": "code",
      "source": [
        "get_data = res3.map(lambda x:x.split(\",\"))\n",
        "resf = get_data.map(lambda x:(int(x[1]),int(x[2])))\n",
        "resf.reduceByKey(lambda x,y:x+y).collect()"
      ],
      "metadata": {
        "colab": {
          "base_uri": "https://localhost:8080/"
        },
        "id": "RvkcQrYeRx9z",
        "outputId": "7122a93a-2db0-4035-ec5a-ec454c680d49"
      },
      "execution_count": 70,
      "outputs": [
        {
          "output_type": "execute_result",
          "data": {
            "text/plain": [
              "[(23, 8500), (21, 3000), (24, 600)]"
            ]
          },
          "metadata": {},
          "execution_count": 70
        }
      ]
    },
    {
      "cell_type": "code",
      "source": [],
      "metadata": {
        "id": "WzUWHAVOSVKV"
      },
      "execution_count": null,
      "outputs": []
    }
  ]
}